{
 "cells": [
  {
   "cell_type": "code",
   "execution_count": 1,
   "metadata": {},
   "outputs": [],
   "source": [
    "\n",
    "import torch\n",
    "import scanpy as sc\n",
    "sn_data = sc.read_h5ad('/cluster/home/sunyk/deeplearning/.sun_algo/test_data/reference.h5ad')\n",
    "st_data = sc.read_h5ad('/cluster/home/sunyk/deeplearning/.sun_algo/test_data/query.h5ad')\n",
    "\n",
    "sn_data.var_names = sn_data.var['features']\n",
    "st_data.var_names = st_data.var['features']"
   ]
  },
  {
   "cell_type": "code",
   "execution_count": 2,
   "metadata": {},
   "outputs": [
    {
     "name": "stderr",
     "output_type": "stream",
     "text": [
      "/cluster/home/sunyk/anaconda3/envs/cuda6/lib/python3.8/site-packages/scanpy/preprocessing/_normalization.py:169: UserWarning: Received a view of an AnnData. Making a copy.\n",
      "  view_to_actual(adata)\n"
     ]
    }
   ],
   "source": [
    "import os\n",
    "os.chdir('/cluster/home/sunyk/deeplearning/.sun_algo/rmge')\n",
    "from preprocess import preprocess_data, generate_noisy_data\n",
    "\n",
    "st_data, sn_data = preprocess_data(st_data, sn_data)\n",
    "\n",
    "device = torch.device(\"cuda\" if torch.cuda.is_available() else \"cpu\")\n",
    "noise_data = generate_noisy_data(st_data, sn_data, device)\n",
    "sn_data.layers['noise']=noise_data.cpu().numpy()\n",
    "# sn_data.write('/cluster/home/sunyk/deeplearning/GLUE-master1/GLUE-master/output/noise_sub_cell.h5ad')"
   ]
  },
  {
   "cell_type": "code",
   "execution_count": 3,
   "metadata": {},
   "outputs": [
    {
     "name": "stdout",
     "output_type": "stream",
     "text": [
      "Epoch 0/1000, Loss: 18.5913028717041, Accuracy: 0.1488370965003759\n",
      "Epoch 100/1000, Loss: 2.0847513675689697, Accuracy: 0.9104115635534644\n",
      "Epoch 200/1000, Loss: 2.0579540729522705, Accuracy: 0.9106783401644314\n",
      "Epoch 300/1000, Loss: 2.069488525390625, Accuracy: 0.910993621613756\n",
      "Epoch 400/1000, Loss: 2.077226400375366, Accuracy: 0.9099265151698882\n",
      "Epoch 500/1000, Loss: 2.1036317348480225, Accuracy: 0.91111488370965\n",
      "Epoch 600/1000, Loss: 2.114243984222412, Accuracy: 0.910217544200034\n",
      "Epoch 700/1000, Loss: 2.1341300010681152, Accuracy: 0.9115029224165111\n",
      "Epoch 800/1000, Loss: 2.1573081016540527, Accuracy: 0.9105570780685374\n",
      "Epoch 900/1000, Loss: 2.1814985275268555, Accuracy: 0.9090776804986297\n",
      "Validation Accuracy: 0.8948\n"
     ]
    }
   ],
   "source": [
    "\n",
    "from model import RMGE \n",
    "        \n",
    "rmge = RMGE(sn_data, st_data, device='cuda',class_columns = 'SubClass')\n",
    "\n",
    "# 训练模型\n",
    "train_losses, train_accuracies = rmge.train(epochs=1000)\n",
    "\n",
    "# 训练过程结束后评估模型\n",
    "st_predict_class_names = rmge.evaluate()"
   ]
  },
  {
   "cell_type": "code",
   "execution_count": 4,
   "metadata": {},
   "outputs": [
    {
     "name": "stdout",
     "output_type": "stream",
     "text": [
      "Total Transport Cost: 402.60230281782685\n"
     ]
    }
   ],
   "source": [
    "from mapping import cell_mappings \n",
    "    \n",
    "cell_mappings, total_transport_cost = cell_mappings(sn_data, st_data, rmge, device)\n",
    "\n",
    "# Print the total transport cost\n",
    "print(\"Total Transport Cost:\", total_transport_cost)\n"
   ]
  }
 ],
 "metadata": {
  "interpreter": {
   "hash": "7c3c9c0214cd22bc0ae22f7bfd09d2fc247c2b12cc3183b0f6677b50de6f4f9e"
  },
  "kernelspec": {
   "display_name": "Python [conda env:cuda6]",
   "language": "python",
   "name": "conda-env-cuda6-py"
  },
  "language_info": {
   "codemirror_mode": {
    "name": "ipython",
    "version": 3
   },
   "file_extension": ".py",
   "mimetype": "text/x-python",
   "name": "python",
   "nbconvert_exporter": "python",
   "pygments_lexer": "ipython3",
   "version": "3.8.19"
  }
 },
 "nbformat": 4,
 "nbformat_minor": 4
}
